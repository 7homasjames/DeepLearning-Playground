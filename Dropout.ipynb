{
 "cells": [
  {
   "cell_type": "markdown",
   "id": "e6383d60",
   "metadata": {},
   "source": [
    "### Import Packages"
   ]
  },
  {
   "cell_type": "code",
   "execution_count": 1,
   "id": "2adcce67",
   "metadata": {},
   "outputs": [],
   "source": [
    "import numpy as np\n",
    "from sklearn.datasets import load_breast_cancer\n",
    "from sklearn.model_selection import train_test_split\n",
    "from sklearn.preprocessing import StandardScaler\n",
    "import torch\n",
    "from torch import nn\n",
    "from torch.utils.data import DataLoader, Dataset"
   ]
  },
  {
   "cell_type": "markdown",
   "id": "65cb2c35",
   "metadata": {},
   "source": [
    "### Load Dataset"
   ]
  },
  {
   "cell_type": "code",
   "execution_count": 2,
   "id": "9898c86f",
   "metadata": {},
   "outputs": [],
   "source": [
    "class CancerDataset(Dataset):\n",
    "    def __init__(self, X, y):\n",
    "        self.X = X.astype(np.float32)\n",
    "        self.y = y.astype(np.float32)\n",
    "\n",
    "    def __len__(self):\n",
    "        return len(self.X)\n",
    "\n",
    "    def __getitem__(self, index):\n",
    "        return self.X[index], selfs.y[index]\n"
   ]
  },
  {
   "cell_type": "markdown",
   "id": "1f40c142",
   "metadata": {},
   "source": [
    "### Create a MLP"
   ]
  },
  {
   "cell_type": "code",
   "execution_count": 3,
   "id": "9a01fead",
   "metadata": {},
   "outputs": [],
   "source": [
    "class MLPWithDropout(nn.Module):\n",
    "    def __init__(self, input_size, hidden_size, output_size, dropout_prob):\n",
    "        super(MLPWithDropout, self).__init__()\n",
    "        self.fc1 = nn.Linear(input_size, hidden_size)\n",
    "        self.fc2 = nn.Linear(hidden_size, output_size)\n",
    "        self.dropout = nn.Dropout(dropout_prob)\n",
    "\n",
    "    def forward(self, x):\n",
    "        x = torch.relu(self.fc1(x))\n",
    "        x = self.dropout(x)  # Apply dropout to the hidden layer\n",
    "        x = self.fc2(x)\n",
    "        return x\n"
   ]
  },
  {
   "cell_type": "markdown",
   "id": "8d450196",
   "metadata": {},
   "source": [
    "### Load and preprocess the dataset\n"
   ]
  },
  {
   "cell_type": "code",
   "execution_count": 4,
   "id": "a8a757a2",
   "metadata": {},
   "outputs": [],
   "source": [
    "data = load_breast_cancer()\n",
    "X = data.data\n",
    "y = data.target\n",
    "X_train, X_test, y_train, y_test = train_test_split(X, y, test_size=0.2, random_state=42)\n",
    "scaler = StandardScaler()\n",
    "X_train = scaler.fit_transform(X_train)\n",
    "X_test = scaler.transform(X_test)\n"
   ]
  },
  {
   "cell_type": "markdown",
   "id": "50d5eb7b",
   "metadata": {},
   "source": [
    "### Create DataLoader objects for the training and test sets\n"
   ]
  },
  {
   "cell_type": "code",
   "execution_count": 5,
   "id": "3c98e9f3",
   "metadata": {},
   "outputs": [],
   "source": [
    "train_dataset = CancerDataset(X_train, y_train)\n",
    "train_loader = DataLoader(train_dataset, batch_size=32, shuffle=True)\n",
    "test_dataset = CancerDataset(X_test, y_test)\n",
    "test_loader = DataLoader(test_dataset, batch_size=32, shuffle=False)\n"
   ]
  },
  {
   "cell_type": "markdown",
   "id": "af0553cc",
   "metadata": {},
   "source": [
    "### Create the model, optimizer, and loss function\n"
   ]
  },
  {
   "cell_type": "code",
   "execution_count": 6,
   "id": "b6b5867f",
   "metadata": {},
   "outputs": [],
   "source": [
    "input_size = X_train.shape[1]\n",
    "hidden_size = 64\n",
    "output_size = 1\n",
    "dropout_prob = 0.5\n",
    "model = MLPWithDropout(input_size, hidden_size, output_size, dropout_prob)\n",
    "optimizer = torch.optim.Adam(model.parameters(), lr=0.001)\n",
    "criterion = nn.BCEWithLogitsLoss()"
   ]
  },
  {
   "cell_type": "code",
   "execution_count": 8,
   "id": "2bfa6d7a",
   "metadata": {},
   "outputs": [
    {
     "data": {
      "text/plain": [
       "30"
      ]
     },
     "execution_count": 8,
     "metadata": {},
     "output_type": "execute_result"
    }
   ],
   "source": [
    "input_size = X_train.shape[1]\n",
    "input_size"
   ]
  },
  {
   "cell_type": "markdown",
   "id": "86035948",
   "metadata": {},
   "source": [
    "\n",
    "### Train the model"
   ]
  },
  {
   "cell_type": "code",
   "execution_count": 9,
   "id": "c8ec7872",
   "metadata": {
    "scrolled": true
   },
   "outputs": [
    {
     "name": "stdout",
     "output_type": "stream",
     "text": [
      "Epoch 1, train loss: 0.6505\n",
      "Epoch 2, train loss: 0.4816\n",
      "Epoch 3, train loss: 0.3613\n",
      "Epoch 4, train loss: 0.2811\n",
      "Epoch 5, train loss: 0.2339\n",
      "Epoch 6, train loss: 0.2003\n",
      "Epoch 7, train loss: 0.1752\n",
      "Epoch 8, train loss: 0.1531\n",
      "Epoch 9, train loss: 0.1340\n",
      "Epoch 10, train loss: 0.1311\n"
     ]
    }
   ],
   "source": [
    "epochs = 10\n",
    "for epoch in range(epochs):\n",
    "    model.train()\n",
    "    train_loss = 0\n",
    "    for X_batch, y_batch in train_loader:\n",
    "        optimizer.zero_grad()\n",
    "        logits = model(X_batch)\n",
    "        loss = criterion(logits.squeeze(), y_batch)\n",
    "        loss.backward()\n",
    "        optimizer.step()\n",
    "        train_loss += loss.item() * X_batch.shape[0]\n",
    "    train_loss /= len(train_dataset)\n",
    "    print(f'Epoch {epoch + 1}, train loss: {train_loss:.4f}')"
   ]
  },
  {
   "cell_type": "markdown",
   "id": "5fe5c2cf",
   "metadata": {},
   "source": [
    "### Test the model"
   ]
  },
  {
   "cell_type": "code",
   "execution_count": 10,
   "id": "57489a83",
   "metadata": {},
   "outputs": [
    {
     "name": "stdout",
     "output_type": "stream",
     "text": [
      "Test loss: 0.0889, Accuracy: 98.25%\n"
     ]
    }
   ],
   "source": [
    "\n",
    "model.eval()\n",
    "test_loss = 0\n",
    "correct = 0\n",
    "for X_batch, y_batch in test_loader:\n",
    "    logits = model(X_batch)\n",
    "    loss = criterion(logits.squeeze(), y_batch)\n",
    "    test_loss += loss.item() * X_batch.shape[0]\n",
    "    pred = (logits > 0).squeeze().long()\n",
    "    correct += (pred == y_batch).sum().item()\n",
    "test_loss /= len(test_dataset)\n",
    "accuracy = correct / len(test_dataset)\n",
    "print(f'Test loss: {test_loss:.4f}, Accuracy: {accuracy * 100:.2f}%')"
   ]
  }
 ],
 "metadata": {
  "kernelspec": {
   "display_name": "Python 3 (ipykernel)",
   "language": "python",
   "name": "python3"
  },
  "language_info": {
   "codemirror_mode": {
    "name": "ipython",
    "version": 3
   },
   "file_extension": ".py",
   "mimetype": "text/x-python",
   "name": "python",
   "nbconvert_exporter": "python",
   "pygments_lexer": "ipython3",
   "version": "3.9.12"
  }
 },
 "nbformat": 4,
 "nbformat_minor": 5
}
