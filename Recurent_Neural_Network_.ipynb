{
 "cells": [
  {
   "cell_type": "code",
   "execution_count": 6,
   "metadata": {
    "id": "BuHSs_8_dLrX"
   },
   "outputs": [],
   "source": [
    "import torch\n",
    "import torch.nn as nn"
   ]
  },
  {
   "cell_type": "code",
   "execution_count": 2,
   "metadata": {
    "id": "glRAI4m7dxK2"
   },
   "outputs": [],
   "source": [
    "# Define the RNN model\n",
    "class RNN(nn.Module):\n",
    "    def __init__(self, input_size, hidden_size, output_size):\n",
    "        super(RNN, self).__init__()\n",
    "\n",
    "        self.hidden_size = hidden_size\n",
    "        self.rnn = nn.RNN(input_size, hidden_size, batch_first=True)\n",
    "        self.fc = nn.Linear(hidden_size, output_size)\n",
    "\n",
    "    def forward(self, x):\n",
    "        # Initialize hidden state with zeros\n",
    "        h0 = torch.zeros(1, x.size(0), self.hidden_size).to(x.device)\n",
    "\n",
    "        # Forward propagate the RNN\n",
    "        out, _ = self.rnn(x, h0)\n",
    "\n",
    "        # Decode the hidden state of the last time step\n",
    "        out = self.fc(out[:, -1, :])\n",
    "        return out"
   ]
  },
  {
   "cell_type": "code",
   "execution_count": 4,
   "metadata": {
    "id": "BERqPvPsd2Rg"
   },
   "outputs": [],
   "source": [
    "# Set the hyperparameters\n",
    "input_size = 10\n",
    "hidden_size = 32\n",
    "output_size = 2\n",
    "num_epochs = 10\n",
    "learning_rate = 0.001\n",
    "\n",
    "# Generate some random data for training\n",
    "num_samples = 100\n",
    "seq_length = 20\n",
    "x_train = torch.randn(num_samples, seq_length, input_size)\n",
    "y_train = torch.randint(0, output_size, (num_samples,))\n",
    "\n",
    "\n",
    "# Create the RNN model\n",
    "model = RNN(input_size, hidden_size, output_size)\n",
    "\n",
    "# Define the loss function and optimizer\n",
    "criterion = nn.CrossEntropyLoss()\n",
    "optimizer = torch.optim.Adam(model.parameters(), lr=learning_rate)\n"
   ]
  },
  {
   "cell_type": "code",
   "execution_count": 5,
   "metadata": {
    "colab": {
     "base_uri": "https://localhost:8080/"
    },
    "id": "DSGUN45leB8f",
    "outputId": "1ab0148a-6b8c-4555-c007-d4f651387d16"
   },
   "outputs": [
    {
     "name": "stdout",
     "output_type": "stream",
     "text": [
      "Epoch [1/10], Loss: 0.7047\n",
      "Epoch [2/10], Loss: 0.6992\n",
      "Epoch [3/10], Loss: 0.6938\n",
      "Epoch [4/10], Loss: 0.6888\n",
      "Epoch [5/10], Loss: 0.6839\n",
      "Epoch [6/10], Loss: 0.6793\n",
      "Epoch [7/10], Loss: 0.6748\n",
      "Epoch [8/10], Loss: 0.6706\n",
      "Epoch [9/10], Loss: 0.6665\n",
      "Epoch [10/10], Loss: 0.6625\n",
      "Predicted Labels: 1\n"
     ]
    }
   ],
   "source": [
    "# Train the model\n",
    "for epoch in range(num_epochs):\n",
    "    # Forward pass\n",
    "    outputs = model(x_train)\n",
    "    loss = criterion(outputs, y_train)\n",
    "\n",
    "    # Backward and optimize\n",
    "    optimizer.zero_grad()\n",
    "    loss.backward()\n",
    "    optimizer.step()\n",
    "\n",
    "    if (epoch+1) % 1 == 0:\n",
    "        print(f'Epoch [{epoch+1}/{num_epochs}], Loss: {loss.item():.4f}')\n",
    "\n",
    "# Test the model\n",
    "x_test = torch.randn(1, seq_length, input_size)\n",
    "with torch.no_grad():\n",
    "    predictions = model(x_test)\n",
    "    _, predicted_labels = torch.max(predictions, 1)\n",
    "    print('Predicted Labels:', predicted_labels.item())"
   ]
  }
 ],
 "metadata": {
  "colab": {
   "provenance": []
  },
  "kernelspec": {
   "display_name": "Python 3 (ipykernel)",
   "language": "python",
   "name": "python3"
  },
  "language_info": {
   "codemirror_mode": {
    "name": "ipython",
    "version": 3
   },
   "file_extension": ".py",
   "mimetype": "text/x-python",
   "name": "python",
   "nbconvert_exporter": "python",
   "pygments_lexer": "ipython3",
   "version": "3.9.12"
  }
 },
 "nbformat": 4,
 "nbformat_minor": 1
}
