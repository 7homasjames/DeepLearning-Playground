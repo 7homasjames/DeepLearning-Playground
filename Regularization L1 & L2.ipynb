{
 "cells": [
  {
   "cell_type": "markdown",
   "id": "5de76ab0",
   "metadata": {},
   "source": [
    "### Import Packages"
   ]
  },
  {
   "cell_type": "code",
   "execution_count": 8,
   "id": "af760215",
   "metadata": {},
   "outputs": [],
   "source": [
    "import numpy as np\n",
    "from sklearn.datasets import load_breast_cancer\n",
    "from sklearn.model_selection import train_test_split\n",
    "from sklearn.preprocessing import StandardScaler\n",
    "import torch\n",
    "from torch import nn\n",
    "from torch.utils.data import DataLoader, Dataset"
   ]
  },
  {
   "cell_type": "markdown",
   "id": "10e70ceb",
   "metadata": {},
   "source": [
    "### Load Cancer Dataset"
   ]
  },
  {
   "cell_type": "code",
   "execution_count": 9,
   "id": "03104bf6",
   "metadata": {},
   "outputs": [],
   "source": [
    "class CancerDataset(Dataset):\n",
    "    def __init__(self, X, y):\n",
    "        self.X = X.astype(np.float32)\n",
    "        self.y = y.astype(np.float32)\n",
    "\n",
    "    def __len__(self):\n",
    "        return len(self.X)\n",
    "\n",
    "    def __getitem__(self, index):\n",
    "        return self.X[index], self.y[index]"
   ]
  },
  {
   "cell_type": "markdown",
   "id": "c6557646",
   "metadata": {},
   "source": [
    "### Regularization"
   ]
  },
  {
   "cell_type": "code",
   "execution_count": 10,
   "id": "6eeaf2e9",
   "metadata": {},
   "outputs": [],
   "source": [
    "class RegularizedLogisticRegression(nn.Module):\n",
    "    def __init__(self, input_size, reg_type='l2', reg_factor=0.01):\n",
    "        super(RegularizedLogisticRegression, self).__init__()\n",
    "        self.linear = nn.Linear(input_size, 1)\n",
    "        self.reg_type = reg_type\n",
    "        self.reg_factor = reg_factor\n",
    "\n",
    "    def forward(self, x):\n",
    "        logits = self.linear(x)\n",
    "        return logits\n",
    "\n",
    "    def calculate_regularization_loss(self):\n",
    "        if self.reg_type == 'l1':\n",
    "            reg_loss = self.reg_factor * torch.sum(torch.abs(self.linear.weight))\n",
    "        elif self.reg_type == 'l2':\n",
    "            reg_loss = self.reg_factor * torch.sum(torch.square(self.linear.weight))\n",
    "        else:\n",
    "            reg_loss = 0\n",
    "        return reg_loss\n"
   ]
  },
  {
   "cell_type": "markdown",
   "id": "5e4012d9",
   "metadata": {},
   "source": [
    "###  Load and preprocess the dataset"
   ]
  },
  {
   "cell_type": "code",
   "execution_count": 11,
   "id": "364d66a8",
   "metadata": {},
   "outputs": [],
   "source": [
    "data = load_breast_cancer()\n",
    "X = data.data\n",
    "y = data.target\n",
    "X_train, X_test, y_train, y_test = train_test_split(X, y, test_size=0.2, random_state=42)\n",
    "scaler = StandardScaler()\n",
    "X_train = scaler.fit_transform(X_train)\n",
    "X_test = scaler.transform(X_test)"
   ]
  },
  {
   "cell_type": "markdown",
   "id": "02610e42",
   "metadata": {},
   "source": [
    "### Create DataLoader objects for the training and test sets"
   ]
  },
  {
   "cell_type": "code",
   "execution_count": 12,
   "id": "6c4b1f24",
   "metadata": {},
   "outputs": [],
   "source": [
    "train_dataset = CancerDataset(X_train, y_train)\n",
    "train_loader = DataLoader(train_dataset, batch_size=32, shuffle=True)\n",
    "test_dataset = CancerDataset(X_test, y_test)\n",
    "test_loader = DataLoader(test_dataset, batch_size=32, shuffle=False)"
   ]
  },
  {
   "cell_type": "markdown",
   "id": "ba673159",
   "metadata": {},
   "source": [
    "### Create the model, optimizer, and loss function"
   ]
  },
  {
   "cell_type": "code",
   "execution_count": 16,
   "id": "de9102aa",
   "metadata": {},
   "outputs": [],
   "source": [
    "input_size = X_train.shape[1]\n",
    "model = RegularizedLogisticRegression(input_size, reg_type='l1', reg_factor=0.01)\n",
    "optimizer = torch.optim.Adam(model.parameters(), lr=0.001)\n",
    "criterion = nn.BCEWithLogitsLoss()\n"
   ]
  },
  {
   "cell_type": "markdown",
   "id": "2655308f",
   "metadata": {},
   "source": [
    "### Train the model"
   ]
  },
  {
   "cell_type": "code",
   "execution_count": 17,
   "id": "13d25b8e",
   "metadata": {},
   "outputs": [
    {
     "name": "stdout",
     "output_type": "stream",
     "text": [
      "Epoch 1, train loss: 0.8063\n",
      "Epoch 2, train loss: 0.7143\n",
      "Epoch 3, train loss: 0.6377\n",
      "Epoch 4, train loss: 0.5757\n",
      "Epoch 5, train loss: 0.5254\n",
      "Epoch 6, train loss: 0.4846\n",
      "Epoch 7, train loss: 0.4511\n",
      "Epoch 8, train loss: 0.4224\n",
      "Epoch 9, train loss: 0.3985\n",
      "Epoch 10, train loss: 0.3774\n"
     ]
    }
   ],
   "source": [
    "epochs = 10\n",
    "for epoch in range(epochs):\n",
    "    model.train()\n",
    "    train_loss = 0\n",
    "    for X_batch, y_batch in train_loader:\n",
    "        optimizer.zero_grad()\n",
    "        logits = model(X_batch)\n",
    "        loss = criterion(logits.squeeze(), y_batch)\n",
    "        reg_loss = model.calculate_regularization_loss()\n",
    "        loss += reg_loss\n",
    "        loss.backward()\n",
    "        optimizer.step()\n",
    "        train_loss += loss.item() * X_batch.shape[0]\n",
    "    train_loss /= len(train_dataset)\n",
    "    print(f'Epoch {epoch + 1}, train loss: {train_loss:.4f}')"
   ]
  },
  {
   "cell_type": "markdown",
   "id": "4876cf8a",
   "metadata": {},
   "source": [
    "### Test the model"
   ]
  },
  {
   "cell_type": "code",
   "execution_count": 18,
   "id": "35a98013",
   "metadata": {},
   "outputs": [
    {
     "name": "stdout",
     "output_type": "stream",
     "text": [
      "Test set accuracy: 94.74%\n"
     ]
    }
   ],
   "source": [
    "model.eval()\n",
    "test_loss = 0\n",
    "correct = 0\n",
    "for X_batch, y_batch in test_loader:\n",
    "    logits = model(X_batch)\n",
    "    loss = criterion(logits.squeeze(), y_batch)\n",
    "    reg_loss = model.calculate_regularization_loss()\n",
    "    loss += reg_loss\n",
    "    test_loss += loss.item() * X_batch.shape[0]\n",
    "    pred = (logits > 0).squeeze().long()\n",
    "    correct += (pred == y_batch).sum().item()\n",
    "test_loss /= len(test_dataset)\n",
    "accuracy = correct / len(test_dataset)\n",
    "\n",
    "print(f'Test set accuracy: {100*accuracy:.2f}%')\n"
   ]
  }
 ],
 "metadata": {
  "kernelspec": {
   "display_name": "Python 3 (ipykernel)",
   "language": "python",
   "name": "python3"
  },
  "language_info": {
   "codemirror_mode": {
    "name": "ipython",
    "version": 3
   },
   "file_extension": ".py",
   "mimetype": "text/x-python",
   "name": "python",
   "nbconvert_exporter": "python",
   "pygments_lexer": "ipython3",
   "version": "3.9.12"
  }
 },
 "nbformat": 4,
 "nbformat_minor": 5
}
