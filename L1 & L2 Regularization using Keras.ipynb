{
 "cells": [
  {
   "cell_type": "markdown",
   "id": "42a33515",
   "metadata": {},
   "source": [
    "### Import Library"
   ]
  },
  {
   "cell_type": "code",
   "execution_count": 1,
   "id": "d671bd50",
   "metadata": {},
   "outputs": [],
   "source": [
    "import numpy as np\n",
    "from sklearn.datasets import load_breast_cancer\n",
    "from sklearn.model_selection import train_test_split\n",
    "from sklearn.preprocessing import StandardScaler\n",
    "import tensorflow as tf\n",
    "from tensorflow import keras\n",
    "from tensorflow.keras import layers, regularizers\n"
   ]
  },
  {
   "cell_type": "markdown",
   "id": "272f2fb2",
   "metadata": {},
   "source": [
    "### Load and preprocess the dataset"
   ]
  },
  {
   "cell_type": "code",
   "execution_count": 2,
   "id": "5c54e389",
   "metadata": {},
   "outputs": [],
   "source": [
    "data = load_breast_cancer()\n",
    "X = data.data\n",
    "y = data.target\n",
    "X_train, X_test, y_train, y_test = train_test_split(X, y, test_size=0.2, random_state=42)\n",
    "scaler = StandardScaler()\n",
    "X_train = scaler.fit_transform(X_train)\n",
    "X_test = scaler.transform(X_test)\n"
   ]
  },
  {
   "cell_type": "markdown",
   "id": "be0a6719",
   "metadata": {},
   "source": [
    "### Create the model"
   ]
  },
  {
   "cell_type": "code",
   "execution_count": 3,
   "id": "667049af",
   "metadata": {},
   "outputs": [],
   "source": [
    "input_size = X_train.shape[1]\n",
    "model = keras.Sequential([\n",
    "    layers.Dense(1, activation='sigmoid', input_shape=(input_size,),\n",
    "                 kernel_regularizer=regularizers.l2(0.01))\n",
    "])\n"
   ]
  },
  {
   "cell_type": "markdown",
   "id": "bd31aa67",
   "metadata": {},
   "source": [
    "### Compile the model"
   ]
  },
  {
   "cell_type": "code",
   "execution_count": 5,
   "id": "687e1643",
   "metadata": {},
   "outputs": [],
   "source": [
    "model.compile(optimizer='adam',\n",
    "              loss='binary_crossentropy',\n",
    "              metrics=['accuracy'])"
   ]
  },
  {
   "cell_type": "markdown",
   "id": "7b006dfd",
   "metadata": {},
   "source": [
    "### Create TensorFlow Datasets"
   ]
  },
  {
   "cell_type": "code",
   "execution_count": 4,
   "id": "0ac82eca",
   "metadata": {},
   "outputs": [],
   "source": [
    "train_dataset = tf.data.Dataset.from_tensor_slices((X_train, y_train)).batch(32).shuffle(len(X_train))\n",
    "test_dataset = tf.data.Dataset.from_tensor_slices((X_test, y_test)).batch(32)\n"
   ]
  },
  {
   "cell_type": "markdown",
   "id": "b05ba500",
   "metadata": {},
   "source": [
    "### Train the model"
   ]
  },
  {
   "cell_type": "code",
   "execution_count": 6,
   "id": "0cfd9d26",
   "metadata": {
    "scrolled": true
   },
   "outputs": [
    {
     "name": "stdout",
     "output_type": "stream",
     "text": [
      "Epoch 1/10\n",
      "15/15 [==============================] - 2s 4ms/step - loss: 1.4845 - accuracy: 0.1670\n",
      "Epoch 2/10\n",
      "15/15 [==============================] - 0s 1ms/step - loss: 1.3273 - accuracy: 0.1912\n",
      "Epoch 3/10\n",
      "15/15 [==============================] - 0s 1ms/step - loss: 1.1892 - accuracy: 0.2154\n",
      "Epoch 4/10\n",
      "15/15 [==============================] - 0s 2ms/step - loss: 1.0565 - accuracy: 0.2725\n",
      "Epoch 5/10\n",
      "15/15 [==============================] - 0s 1ms/step - loss: 0.9412 - accuracy: 0.3341\n",
      "Epoch 6/10\n",
      "15/15 [==============================] - 0s 1ms/step - loss: 0.8369 - accuracy: 0.4088\n",
      "Epoch 7/10\n",
      "15/15 [==============================] - 0s 1ms/step - loss: 0.7574 - accuracy: 0.4879\n",
      "Epoch 8/10\n",
      "15/15 [==============================] - 0s 1ms/step - loss: 0.6865 - accuracy: 0.5890\n",
      "Epoch 9/10\n",
      "15/15 [==============================] - 0s 1ms/step - loss: 0.6278 - accuracy: 0.6593\n",
      "Epoch 10/10\n",
      "15/15 [==============================] - 0s 1ms/step - loss: 0.5790 - accuracy: 0.7451\n"
     ]
    },
    {
     "data": {
      "text/plain": [
       "<keras.callbacks.History at 0x229834f90a0>"
      ]
     },
     "execution_count": 6,
     "metadata": {},
     "output_type": "execute_result"
    }
   ],
   "source": [
    "\n",
    "epochs = 10\n",
    "model.fit(train_dataset, epochs=epochs)"
   ]
  },
  {
   "cell_type": "markdown",
   "id": "eb063490",
   "metadata": {},
   "source": [
    "\n",
    "\n",
    "\n",
    "\n",
    "### Test the model"
   ]
  },
  {
   "cell_type": "code",
   "execution_count": 7,
   "id": "b3b51fd2",
   "metadata": {},
   "outputs": [
    {
     "name": "stdout",
     "output_type": "stream",
     "text": [
      "4/4 [==============================] - 0s 6ms/step - loss: 0.5199 - accuracy: 0.7544\n",
      "Test loss: 0.5199\n",
      "Accuracy: 0.7544\n"
     ]
    }
   ],
   "source": [
    "\n",
    "test_loss, accuracy = model.evaluate(test_dataset)\n",
    "print(f'Test loss: {test_loss:.4f}')\n",
    "print(f'Accuracy: {accuracy:.4f}')\n"
   ]
  }
 ],
 "metadata": {
  "kernelspec": {
   "display_name": "Python 3 (ipykernel)",
   "language": "python",
   "name": "python3"
  },
  "language_info": {
   "codemirror_mode": {
    "name": "ipython",
    "version": 3
   },
   "file_extension": ".py",
   "mimetype": "text/x-python",
   "name": "python",
   "nbconvert_exporter": "python",
   "pygments_lexer": "ipython3",
   "version": "3.9.12"
  }
 },
 "nbformat": 4,
 "nbformat_minor": 5
}
