{
 "cells": [
  {
   "cell_type": "markdown",
   "id": "9b9dde2a",
   "metadata": {},
   "source": [
    "### Import Packages"
   ]
  },
  {
   "cell_type": "code",
   "execution_count": 1,
   "id": "f6083d05",
   "metadata": {},
   "outputs": [],
   "source": [
    "import torch\n",
    "import torch.nn as nn\n",
    "import torchvision.transforms as transforms\n",
    "import torchvision.datasets as dsets"
   ]
  },
  {
   "cell_type": "markdown",
   "id": "b5583aec",
   "metadata": {},
   "source": [
    "### Load Dataset"
   ]
  },
  {
   "cell_type": "code",
   "execution_count": 2,
   "id": "a2b82fff",
   "metadata": {},
   "outputs": [],
   "source": [
    "train_dataset = dsets.MNIST(root='./data', \n",
    "                            train=True, \n",
    "                            transform=transforms.ToTensor(),\n",
    "                            download=True)\n",
    "\n",
    "test_dataset = dsets.MNIST(root='./data', \n",
    "                           train=False, \n",
    "                           transform=transforms.ToTensor())"
   ]
  },
  {
   "cell_type": "markdown",
   "id": "624dbe8c",
   "metadata": {},
   "source": [
    "### Dataloader"
   ]
  },
  {
   "cell_type": "code",
   "execution_count": 3,
   "id": "3b46e720",
   "metadata": {},
   "outputs": [],
   "source": [
    "batch_size = 100\n",
    "n_iters = 3000\n",
    "num_epochs = n_iters / (len(train_dataset) / batch_size)\n",
    "num_epochs = int(num_epochs)\n",
    "\n",
    "train_loader = torch.utils.data.DataLoader(dataset=train_dataset, \n",
    "                                           batch_size=batch_size, \n",
    "                                           shuffle=True)\n",
    "\n",
    "test_loader = torch.utils.data.DataLoader(dataset=test_dataset, \n",
    "                                          batch_size=batch_size, \n",
    "                                          shuffle=False)"
   ]
  },
  {
   "cell_type": "code",
   "execution_count": 4,
   "id": "5f5d8f2e",
   "metadata": {},
   "outputs": [],
   "source": [
    "input_size=28\n",
    "sequence_length =28\n",
    "num_layers=2\n",
    "hidden_size=256\n",
    "\n",
    "learning_rate = 0.001\n",
    "num_epochs = 5\n",
    "\n",
    "num_classes =10\n",
    "batch_size = 64"
   ]
  },
  {
   "cell_type": "markdown",
   "id": "39daee31",
   "metadata": {},
   "source": [
    "### GRU"
   ]
  },
  {
   "cell_type": "code",
   "execution_count": 7,
   "id": "99e12f99",
   "metadata": {},
   "outputs": [],
   "source": [
    "class SimpleGRU(nn.Module):\n",
    "    def __init__(self, input_size=input_size, hidden_size=hidden_size, num_layers=num_layers, num_classes=num_classes, sequence_length=sequence_length):\n",
    "        super(SimpleGRU, self).__init__()\n",
    "        self.hidden_size  = hidden_size\n",
    "        self.num_layers = num_layers\n",
    "        \n",
    "        self.gru = nn.GRU(input_size, hidden_size, num_layers, batch_first=True)\n",
    "        self.fc1 = nn.Linear(hidden_size * sequence_length, num_classes)\n",
    "    \n",
    "    def forward(self, x):\n",
    "        h0 = torch.zeros(self.num_layers, x.size(0), self.hidden_size)\n",
    "        \n",
    "        out,_ = self.gru(x, h0)\n",
    "        out = out.reshape(out.shape[0], -1)\n",
    "        out = self.fc1(out)\n",
    "        return out"
   ]
  },
  {
   "cell_type": "code",
   "execution_count": 6,
   "id": "6da5c341",
   "metadata": {},
   "outputs": [],
   "source": [
    "model = SimpleGRU()\n",
    "criterion = nn.CrossEntropyLoss()\n",
    "learning_rate = 0.1\n",
    "\n",
    "optimizer = torch.optim.SGD(model.parameters(), lr=learning_rate)  "
   ]
  },
  {
   "cell_type": "code",
   "execution_count": 9,
   "id": "5c81b8f8",
   "metadata": {},
   "outputs": [],
   "source": [
    "# Check if a GPU is available and use it, otherwise use CPU\n",
    "device = torch.device('cuda' if torch.cuda.is_available() else 'cpu')"
   ]
  },
  {
   "cell_type": "code",
   "execution_count": 10,
   "id": "3aa931e0",
   "metadata": {},
   "outputs": [
    {
     "name": "stdout",
     "output_type": "stream",
     "text": [
      "Epoch [1/5], Step [100/600], Loss: 0.7371\n",
      "Epoch [1/5], Step [200/600], Loss: 0.4305\n",
      "Epoch [1/5], Step [300/600], Loss: 0.3741\n",
      "Epoch [1/5], Step [400/600], Loss: 0.3355\n",
      "Epoch [1/5], Step [500/600], Loss: 0.3364\n",
      "Epoch [1/5], Step [600/600], Loss: 0.3723\n",
      "Epoch [2/5], Step [100/600], Loss: 0.2314\n",
      "Epoch [2/5], Step [200/600], Loss: 0.3558\n",
      "Epoch [2/5], Step [300/600], Loss: 0.3904\n",
      "Epoch [2/5], Step [400/600], Loss: 0.3293\n",
      "Epoch [2/5], Step [500/600], Loss: 0.3355\n",
      "Epoch [2/5], Step [600/600], Loss: 0.2713\n",
      "Epoch [3/5], Step [100/600], Loss: 0.2548\n",
      "Epoch [3/5], Step [200/600], Loss: 0.1124\n",
      "Epoch [3/5], Step [300/600], Loss: 0.2738\n",
      "Epoch [3/5], Step [400/600], Loss: 0.2465\n",
      "Epoch [3/5], Step [500/600], Loss: 0.1412\n",
      "Epoch [3/5], Step [600/600], Loss: 0.2304\n",
      "Epoch [4/5], Step [100/600], Loss: 0.0801\n",
      "Epoch [4/5], Step [200/600], Loss: 0.1738\n",
      "Epoch [4/5], Step [300/600], Loss: 0.1286\n",
      "Epoch [4/5], Step [400/600], Loss: 0.1623\n",
      "Epoch [4/5], Step [500/600], Loss: 0.1307\n",
      "Epoch [4/5], Step [600/600], Loss: 0.0946\n",
      "Epoch [5/5], Step [100/600], Loss: 0.1793\n",
      "Epoch [5/5], Step [200/600], Loss: 0.1860\n",
      "Epoch [5/5], Step [300/600], Loss: 0.1956\n",
      "Epoch [5/5], Step [400/600], Loss: 0.0968\n",
      "Epoch [5/5], Step [500/600], Loss: 0.1079\n",
      "Epoch [5/5], Step [600/600], Loss: 0.1205\n",
      "Test Accuracy: 96.89%\n"
     ]
    }
   ],
   "source": [
    "for epoch in range(num_epochs):\n",
    "    for i, (images, labels) in enumerate(train_loader):\n",
    "        images = images[:, 0, :, :].to(device)  # Flatten the sequence dimension\n",
    "        labels = labels.to(device)\n",
    "\n",
    "        # Forward pass\n",
    "        outputs = model(images)\n",
    "        loss = criterion(outputs, labels)\n",
    "\n",
    "        # Backward pass and optimization\n",
    "        optimizer.zero_grad()\n",
    "        loss.backward()\n",
    "        optimizer.step()\n",
    "\n",
    "        # Print the loss after each batch\n",
    "        if (i+1) % 100 == 0:\n",
    "            print(f\"Epoch [{epoch+1}/{num_epochs}], Step [{i+1}/{len(train_loader)}], Loss: {loss.item():.4f}\")\n",
    "\n",
    "# Evaluate the model on the test dataset\n",
    "model.eval()\n",
    "with torch.no_grad():\n",
    "    correct = 0\n",
    "    total = 0\n",
    "    for images, labels in test_loader:\n",
    "        images = images[:, 0, :, :].to(device)\n",
    "        labels = labels.to(device)\n",
    "        outputs = model(images)\n",
    "        _, predicted = torch.max(outputs.data, 1)\n",
    "        total += labels.size(0)\n",
    "        correct += (predicted == labels).sum().item()\n",
    "\n",
    "    accuracy = 100 * correct / total\n",
    "    print(f\"Test Accuracy: {accuracy:.2f}%\")"
   ]
  }
 ],
 "metadata": {
  "kernelspec": {
   "display_name": "Python 3 (ipykernel)",
   "language": "python",
   "name": "python3"
  },
  "language_info": {
   "codemirror_mode": {
    "name": "ipython",
    "version": 3
   },
   "file_extension": ".py",
   "mimetype": "text/x-python",
   "name": "python",
   "nbconvert_exporter": "python",
   "pygments_lexer": "ipython3",
   "version": "3.9.12"
  }
 },
 "nbformat": 4,
 "nbformat_minor": 5
}
